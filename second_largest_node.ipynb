{
 "cells": [
  {
   "cell_type": "code",
   "execution_count": 77,
   "metadata": {},
   "outputs": [
    {
     "data": {
      "image/png": "[encoded data removed]",
      "text/plain": [
       "<IPython.core.display.Image object>"
      ]
     },
     "execution_count": 77,
     "metadata": {},
     "output_type": "execute_result"
    }
   ],
   "source": [
    "from IPython.display import Image\n",
    "\n",
    "Image(filename=\"secondlarestnode.PNG\")\n",
    "\n"
   ]
  },
  {
   "cell_type": "code",
   "execution_count": 89,
   "metadata": {},
   "outputs": [
    {
     "data": {
      "image/gif": "[encoded data removed]",
      "text/plain": [
       "<IPython.core.display.Image object>"
      ]
     },
     "execution_count": 89,
     "metadata": {},
     "output_type": "execute_result"
    }
   ],
   "source": [
    "Image(filename=\"bstexample.gif\")"
   ]
  },
  {
   "cell_type": "markdown",
   "metadata": {},
   "source": [
    "# Algorithm Inorder(tree)\n",
    "   1. Traverse the left subtree, i.e., call Inorder(left-subtree)\n",
    "   2. Visit the root.\n",
    "   3. Traverse the right subtree, i.e., call Inorder(right-subtree)"
   ]
  },
  {
   "cell_type": "markdown",
   "metadata": {},
   "source": [
    "1,2,3,4,5\n",
    "\n",
    "Reverse inorder 5,4,3,2,1\n",
    "\n",
    "Reverse BST with counter print the node counter is 2"
   ]
  },
  {
   "cell_type": "code",
   "execution_count": 14,
   "metadata": {},
   "outputs": [],
   "source": [
    "class Node(object):\n",
    "    def __init__(self,data):\n",
    "        self.data=data\n",
    "        self.rightChild=None\n",
    "        self.leftChild=None\n"
   ]
  },
  {
   "cell_type": "code",
   "execution_count": 78,
   "metadata": {},
   "outputs": [],
   "source": [
    "class BinarySearchTree(object):\n",
    "    def __init__(self):\n",
    "        self.root=None\n",
    "    \n",
    "    def insert(self,data):\n",
    "        if not self.root:\n",
    "            self.root=Node(data)\n",
    "        else:\n",
    "            self.insertNode(data,self.root)\n",
    "    \n",
    "    def insertNode(self,data,node):\n",
    "        if data < node.data:\n",
    "            if node.leftChild:\n",
    "                self.insertNode(data,node.leftChild)\n",
    "            else:\n",
    "                node.leftChild=Node(data)\n",
    "        else:\n",
    "            if node.rightChild:\n",
    "                self.insertNode(data,node.rightChild)\n",
    "            else:\n",
    "                node.rightChild=Node(data)\n",
    "    def getMinValue(self):\n",
    "        if self.root:\n",
    "            return self.getMin(self.root)\n",
    "    def getMin(self,node):\n",
    "        if node.leftChild:\n",
    "            return self.getMin(node.leftChild)\n",
    "        return node.data\n",
    "    def getMaxValue(self):\n",
    "        if self.root:\n",
    "            return self.getMax(self.root)\n",
    "    def getMax(self,node):\n",
    "        if node.rightChild:\n",
    "            return self.getMax(node.rightChild)\n",
    "        return node.data\n",
    "    def traverse(self,order):\n",
    "        if self.root:\n",
    "            if order == \"inorder\":\n",
    "                self.traverseInorder(self.root)\n",
    "            elif order == \"preorder\":\n",
    "                self.traversePreorder(self.root)\n",
    "            else:\n",
    "                self.traversePostorder(self.root)\n",
    "    def traverseInorder(self,node):\n",
    "        if node.leftChild:\n",
    "            self.traverseInorder(node.leftChild)\n",
    "        print(node.data)\n",
    "        if node.rightChild:\n",
    "            self.traverseInorder(node.rightChild)\n",
    "    def traversePreorder(self,node):\n",
    "        print(node.data)\n",
    "        if node.leftChild:\n",
    "            self.traverseInorder(node.leftChild)\n",
    "        if node.rightChild:\n",
    "            self.traverseInorder(node.rightChild)\n",
    "    def traversePostorder(self,node):\n",
    "        if node.leftChild:\n",
    "            self.traverseInorder(node.leftChild)\n",
    "        if node.rightChild:\n",
    "            self.traverseInorder(node.rightChild)\n",
    "        print(node.data)\n",
    "    def getsecondlargest(self):\n",
    "        if self.root:\n",
    "            # visited as 0  \n",
    "            c = [0]  \n",
    "            self.fetchsecondlargest(self.root,c)\n",
    "    def fetchsecondlargest(self,node,c):\n",
    "        if node == None or c[0] >= 2:  \n",
    "            return\n",
    "        self.fetchsecondlargest(node.rightChild, c)\n",
    "        c[0]+=1\n",
    "        if c[0] == 2: \n",
    "            print(node.data)\n",
    "            return\n",
    "        self.fetchsecondlargest(node.leftChild, c)\n",
    "    def getkthlargest(self,k):\n",
    "        if self.root:\n",
    "            # visited as 0  \n",
    "            c = [0]  \n",
    "            self.fetchkthlargest(self.root,k,c)\n",
    "    def fetchkthlargest(self,node,k,c):\n",
    "        if node == None or c[0] >= k:  \n",
    "            return\n",
    "        self.fetchkthlargest(node.rightChild,k, c)\n",
    "        c[0]+=1\n",
    "        if c[0] == k: \n",
    "            print(node.data)\n",
    "            return\n",
    "        self.fetchkthlargest(node.leftChild,k, c)"
   ]
  },
  {
   "cell_type": "code",
   "execution_count": 79,
   "metadata": {},
   "outputs": [],
   "source": [
    "bst=BinarySearchTree()\n",
    "bst.insert(10)\n",
    "bst.insert(5)\n",
    "bst.insert(15)\n",
    "bst.insert(6)"
   ]
  },
  {
   "cell_type": "code",
   "execution_count": 80,
   "metadata": {},
   "outputs": [
    {
     "data": {
      "text/plain": [
       "15"
      ]
     },
     "execution_count": 80,
     "metadata": {},
     "output_type": "execute_result"
    }
   ],
   "source": [
    "bst.getMaxValue()"
   ]
  },
  {
   "cell_type": "code",
   "execution_count": 81,
   "metadata": {},
   "outputs": [
    {
     "data": {
      "text/plain": [
       "5"
      ]
     },
     "execution_count": 81,
     "metadata": {},
     "output_type": "execute_result"
    }
   ],
   "source": [
    "bst.getMinValue()"
   ]
  },
  {
   "cell_type": "code",
   "execution_count": 82,
   "metadata": {},
   "outputs": [
    {
     "name": "stdout",
     "output_type": "stream",
     "text": [
      "5\n",
      "6\n",
      "10\n",
      "15\n"
     ]
    }
   ],
   "source": [
    "bst.traverse(\"inorder\")"
   ]
  },
  {
   "cell_type": "code",
   "execution_count": 83,
   "metadata": {},
   "outputs": [
    {
     "name": "stdout",
     "output_type": "stream",
     "text": [
      "10\n",
      "5\n",
      "6\n",
      "15\n"
     ]
    }
   ],
   "source": [
    "bst.traverse(\"preorder\")"
   ]
  },
  {
   "cell_type": "code",
   "execution_count": 84,
   "metadata": {},
   "outputs": [
    {
     "name": "stdout",
     "output_type": "stream",
     "text": [
      "5\n",
      "6\n",
      "15\n",
      "10\n"
     ]
    }
   ],
   "source": [
    "bst.traverse(\"postorder\")"
   ]
  },
  {
   "cell_type": "code",
   "execution_count": 85,
   "metadata": {},
   "outputs": [
    {
     "name": "stdout",
     "output_type": "stream",
     "text": [
      "10\n"
     ]
    }
   ],
   "source": [
    "bst.getsecondlargest()"
   ]
  },
  {
   "cell_type": "code",
   "execution_count": 86,
   "metadata": {},
   "outputs": [
    {
     "name": "stdout",
     "output_type": "stream",
     "text": [
      "6\n"
     ]
    }
   ],
   "source": [
    "bst.getkthlargest(3)"
   ]
  },
  {
   "cell_type": "code",
   "execution_count": 87,
   "metadata": {},
   "outputs": [
    {
     "name": "stdout",
     "output_type": "stream",
     "text": [
      "5\n"
     ]
    }
   ],
   "source": [
    "bst.getkthlargest(4)"
   ]
  },
  {
   "cell_type": "code",
   "execution_count": 88,
   "metadata": {},
   "outputs": [],
   "source": [
    "#Time Complexity O(h) "
   ]
  },
  {
   "cell_type": "code",
   "execution_count": null,
   "metadata": {},
   "outputs": [],
   "source": []
  }
 ],
 "metadata": {
  "kernelspec": {
   "display_name": "Python 3",
   "language": "python",
   "name": "python3"
  },
  "language_info": {
   "codemirror_mode": {
    "name": "ipython",
    "version": 3
   },
   "file_extension": ".py",
   "mimetype": "text/x-python",
   "name": "python",
   "nbconvert_exporter": "python",
   "pygments_lexer": "ipython3",
   "version": "3.6.8"
  }
 },
 "nbformat": 4,
 "nbformat_minor": 2
}
